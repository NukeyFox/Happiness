{
 "cells": [
  {
   "cell_type": "markdown",
   "id": "rocky-white",
   "metadata": {},
   "source": [
    "### SPARC Technical question 2B: Happiness \n",
    "Applicant name: Johanan Lee Mahendran\n"
   ]
  },
  {
   "source": [
    "\n",
    "Before I started modelling, I had to understand the question. Clarifying the definitions took up most of my time and even then it seems unclear how much these things stand to scrutiny.\n",
    "There is the \"common sense\" assumption that a person is generally happier if their neighbours are happy.\n",
    "\n",
    "<b> What does it mean to be happy? </b>  \n",
    "This is such a awkward question in my opinion. One person's happiness can be another person's nightmare. And is there really an absolute objective measure of happiness? \n",
    "I generally consider someone happy when they are \"content with their current situation\", but I somewhat regret making this definition. \n",
    "Their \"current situation\" is an unspecified in time and space. Nobody is happy at all times and in all places. \n",
    "\n",
    "\n",
    "<b>What does it mean to be an \"acquaintance\"?</b>  \n",
    "The question sheet specified that an acquaintance is \"someone who interacts frequently with a person\".\n",
    "But what does interact mean here? \n",
    "There are many ways two people could interact. They could speak directly to each, they could chat on-line, use sign language, send each other messages on carrier pigeons, nod to each other as they pass by, play a game of chess, share a blunt and so on.   \n",
    "Some interactions only occur when you have three or more people together: playing an online team game, participating in a race, acting in a play together, playing together as a band, etc. \n",
    "\n",
    "\n",
    "How frequent is frequently?  \n",
    "Is it daily? Weeky? An unspecified but short period of time? What about people that meet consistently but over long periods? \n",
    "I decided to keep the meaning of \"recently\" vague and instead have my model occur only at a \"slice\" of time. \n",
    "A problem with only considering a \"slice of time\" is that people in general aren't happy or unhappy all the time. Evaluating the happiness of people in an instant would not indicate if the person is satisfied with their life. \n",
    "To give an example, a depressed person might be cheered up by friend every now and then, but they face general unhappiness.\n",
    "\n",
    "For all intents and purposes, when I say \"Person A is acquainted with person B\" mean \"Person A communicates with person B on an almost daily basis\". \n",
    "\n",
    "<b> What are the external factors? </b>  \n",
    "This is such a hard question in my opinion. First of all, it's not clear what is an external factor and what is one happiness. \n",
    "A person may be misreable even if they have many happy acquaintances (e.g. this person may be bullied by all their acquaintances) or someone may be happy even if they are all alone (e.g. living their dream life in their beach house).\n",
    "Due to these considerations, I consider three additional factors:\n",
    "1) Whether the interaction between person A and person B is positive (i.e. if person A's happiness increases so does person B's), negative (i.e. if person A's happiness increases, then person B's happiness decreases) or neutral (person A's and person B's happiness do not influence each other.)  \n",
    "2) Each person has an extroversion score. i.e. an innate characteristic of the person which dictates if they are happy depending on the number of acquaintences or not. \n",
    "3) A third factor that acts like a baseline. This can be thought of as all the external factors that's not 1 or 2, lumped together into a single metric.\n",
    "\n",
    "<b> How do I model the people and interactions? </b>    \n",
    "I model my community of $N$ people using an directed graph. The nodes are the people and if an edge exists between two people are acquainted. \n",
    "There will be no edges from the person to themself. The edges are directed since Person A migh have a positive interaction with Person B but Person B might have a negative one. But in all cases, I take communication to be a two-way process and so all edges have an antiparallel edge-- if person A interacts with person B, then person B interacts with person A.  \n",
    "\n",
    "I would also give each person an extroversion score. This would be a floating point value where positive values indicate more extroversion and negative values indicate more introversion. \n",
    "In addition to that, each edge has an associated weight. This is to indicate whether the interaction is positive or negative.\n",
    "And finally, the baseline happiness.  \n",
    "  \n",
    "Using this model, \n",
    "\n",
    "An issue with the common sense assumption is that there may be a catch-22 situation. To evaluate Person A's happiness I need to know Person B's happiness but to know Person B's happiness I need to know Person A's happiness. \n",
    "One way to resolve this is to start everyone \n",
    "\n",
    "Each person has the property that \n",
    "\n",
    "\n",
    "\n",
    "I create a form to collect some data about how people perceive their happiness and the happiness of their acquaintances. \n"
   ],
   "cell_type": "markdown",
   "metadata": {}
  },
  {
   "cell_type": "code",
   "execution_count": null,
   "metadata": {},
   "outputs": [],
   "source": []
  },
  {
   "cell_type": "code",
   "execution_count": 1,
   "metadata": {},
   "outputs": [],
   "source": [
    "\n",
    "import numpy as np\n",
    "import matplotlib.pyplot as plt\n",
    "\n",
    "def random_uniform():\n",
    "    return np.random.uniform()*2 - 1\n",
    "\n",
    "class Person:\n",
    "    def __init__(self, extroversion, base_line):\n",
    "        self.extroversion = extroversion\n",
    "        self.base_line = base_line\n",
    "        self.acquaintences = {}\n",
    "    \n",
    "    def make_acquaintence(self, other, weight = None):\n",
    "        #creates a directed edge from self person to other person with weight\n",
    "        if weight is None:\n",
    "            weight = random_uniform()\n",
    "        self.acquaintences[other] = weight\n",
    "\n",
    "    def happiness(self):\n",
    "        happy = self.base_line\n",
    "        for acq in self.acquaintences:\n",
    "            weight = self.acquaintences[acq]\n",
    "            happy += weight * self.extroversion\n",
    "        return min(max(0,happy),1)\n",
    "\n",
    "class Graph():\n",
    "    def __init__(self, persons = []):\n",
    "        self.persons = persons\n",
    "        \n",
    "    def incidence_graph(self):\n",
    "        n = len(self.persons)\n",
    "        graph = np.zeros((n,n))\n",
    "        for i in range(n):\n",
    "            person = self.persons[i]\n",
    "            acquaintences = person.acquaintences\n",
    "            for j in range(n):\n",
    "                acq = self.persons[j]\n",
    "                if acq in acquaintences:\n",
    "                    graph[i,j] = person.acquaintences[acq]\n",
    "        return graph    \n",
    "\n",
    "    def combine_graphs(self, other):\n",
    "        return Graph(self.persons + other.persons)\n"
   ]
  },
  {
   "source": [
    "## How does the graph look like?  \n",
    "I'll be assuming that the people are connected to each other in a \"small-world graph\".\n",
    "That is to say, people tend to form cliques -- if person A is acquatinted with person B, and person A is acquainted with person C, then it is likely that person B is acquainted with person C.\n",
    "Furthermore, not only do people form cliques but these cliques are connected by only a few individuals. "
   ],
   "cell_type": "markdown",
   "metadata": {}
  },
  {
   "cell_type": "code",
   "execution_count": 12,
   "metadata": {},
   "outputs": [
    {
     "output_type": "execute_result",
     "data": {
      "text/plain": [
       "[2, 9, 8, 7]"
      ]
     },
     "metadata": {},
     "execution_count": 12
    }
   ],
   "source": [
    "t = [1,2,9,8,7]\n",
    "t[1:]"
   ]
  },
  {
   "cell_type": "code",
   "execution_count": 14,
   "metadata": {},
   "outputs": [],
   "source": [
    "\n",
    "\n",
    "class Clique(Graph):\n",
    "    def __init__(self, n):\n",
    "        self.persons = []\n",
    "        for _ in range(n):\n",
    "            extroversion = random_uniform()\n",
    "            base_line = random_uniform()\n",
    "            person = Person(extroversion, base_line)\n",
    "            for acquaintance in self.persons:\n",
    "                acquaintance.make_acquaintence(person)\n",
    "                person.make_acquaintence(acquaintance)\n",
    "            self.persons.append(person)\n",
    "    def combine_cliques(self, other):\n",
    "        if isinstance(other, Clique): \n",
    "            person = np.random.choice(self.persons)\n",
    "            acquaintance = np.random.choice(other.persons)\n",
    "            person.make_acquaintence(acquaintance)\n",
    "            acquaintance.make_acquaintence(person)\n",
    "            return self.combine_graphs(other)\n"
   ]
  },
  {
   "cell_type": "code",
   "execution_count": 16,
   "metadata": {},
   "outputs": [
    {
     "output_type": "execute_result",
     "data": {
      "text/plain": [
       "array([[ 0.        ,  0.3845262 ,  0.        , -0.77448958],\n",
       "       [-0.93144466,  0.        ,  0.        ,  0.        ],\n",
       "       [ 0.        ,  0.        ,  0.        ,  0.84910579],\n",
       "       [-0.01330328,  0.        , -0.3322819 ,  0.        ]])"
      ]
     },
     "metadata": {},
     "execution_count": 16
    }
   ],
   "source": [
    "\n",
    "def create_community(cliques = [2,2]):\n",
    "    graph = Clique(cliques[0])\n",
    "    for n in cliques[1:]:\n",
    "        graph = graph.combine_cliques(Clique(n))\n",
    "    return graph\n",
    "\n",
    "create_community().incidence_graph()"
   ]
  },
  {
   "source": [
    "Bibliography and References:  \n",
    "J. H. Fowler, N. A. Christakis, (2008) Dynamic spread of happiness in a large social network: longitudinal analysis over 20 years in the Framingham Heart Study, Downloaded from http://www.bmj.com/ on 10 April 2021.\n"
   ],
   "cell_type": "markdown",
   "metadata": {}
  }
 ],
 "metadata": {
  "kernelspec": {
   "name": "python379jvsc74a57bd01f583ab26b351d8ca027961ccc2c54e81a35a4e8e2531cedb6f35c0b6ab32fb1",
   "display_name": "Python 3.7.9 64-bit ('base': conda)"
  },
  "language_info": {
   "codemirror_mode": {
    "name": "ipython",
    "version": 3
   },
   "file_extension": ".py",
   "mimetype": "text/x-python",
   "name": "python",
   "nbconvert_exporter": "python",
   "pygments_lexer": "ipython3",
   "version": "3.7.9"
  }
 },
 "nbformat": 4,
 "nbformat_minor": 5
}