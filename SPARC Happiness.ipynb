{
 "cells": [
  {
   "cell_type": "markdown",
   "id": "rocky-white",
   "metadata": {},
   "source": [
    "### SPARC Technical question 2B: Happiness \n",
    "Applicant name: Johanan Lee Mahendran\n"
   ]
  },
  {
   "source": [
    "As with all questions, I first had to understand what I’m supposed to model. What is “happy” is rather subjective and I had to think up a way to quantify it. I relied heavily on \n",
    "Next I had to understand what it means to \n",
    "\n",
    "Assumption 1: What counts as “happy” is \n",
    "Assumption 2: That a person’s happiness \n",
    "\n",
    "I create a form to collect some data about how people perceive their happiness and the happiness of their acquaintances. \n"
   ],
   "cell_type": "markdown",
   "metadata": {}
  },
  {
   "source": [
    "Bibliography and References:  \n",
    "J. H. Fowler, N. A. Christakis, (2008) Dynamic spread of happiness in a large social network: longitudinal analysis over 20 years in the Framingham Heart Study, Downloaded from http://www.bmj.com/ on 10 April 2021.\n"
   ],
   "cell_type": "markdown",
   "metadata": {}
  }
 ],
 "metadata": {
  "kernelspec": {
   "name": "python379jvsc74a57bd01f583ab26b351d8ca027961ccc2c54e81a35a4e8e2531cedb6f35c0b6ab32fb1",
   "display_name": "Python 3.7.9 64-bit ('base': conda)"
  },
  "language_info": {
   "codemirror_mode": {
    "name": "ipython",
    "version": 3
   },
   "file_extension": ".py",
   "mimetype": "text/x-python",
   "name": "python",
   "nbconvert_exporter": "python",
   "pygments_lexer": "ipython3",
   "version": "3.7.9"
  }
 },
 "nbformat": 4,
 "nbformat_minor": 5
}