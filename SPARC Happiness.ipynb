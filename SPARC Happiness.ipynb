{
 "cells": [
  {
   "cell_type": "markdown",
   "id": "common-range",
   "metadata": {},
   "source": [
    "### SPARC Technical question 2B: Happiness \n",
    "Applicant name: Johanan Lee Mahendran"
   ]
  }
 ],
 "metadata": {
  "kernelspec": {
   "display_name": "Python 3",
   "language": "python",
   "name": "python3"
  },
  "language_info": {
   "codemirror_mode": {
    "name": "ipython",
    "version": 3
   },
   "file_extension": ".py",
   "mimetype": "text/x-python",
   "name": "python",
   "nbconvert_exporter": "python",
   "pygments_lexer": "ipython3",
   "version": "3.7.9"
  }
 },
 "nbformat": 4,
 "nbformat_minor": 5
}
